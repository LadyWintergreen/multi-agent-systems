{
 "cells": [
  {
   "cell_type": "code",
   "execution_count": 1,
   "metadata": {
    "id": "2V8xF5Y0ir7c"
   },
   "outputs": [],
   "source": [
    "import torch\n",
    "import copy"
   ]
  },
  {
   "cell_type": "markdown",
   "metadata": {
    "id": "F6ThIsRTkQJW"
   },
   "source": [
    "You need to instantiate the constant for the size of the state space below. This will be used as the size of the input tensor for your Q-network"
   ]
  },
  {
   "cell_type": "code",
   "execution_count": 2,
   "metadata": {
    "id": "P-Q_OIiOjJ4d"
   },
   "outputs": [],
   "source": [
    "#statespace_size=48\n",
    "statespace_size=4"
   ]
  },
  {
   "cell_type": "markdown",
   "metadata": {
    "id": "G10aoCj0kaPk"
   },
   "source": [
    "The function \"prepare_torch\" needs to be called once and only once at the start of your program to initialise PyTorch and generate the two Q-networks. It returns the target model (for testing)."
   ]
  },
  {
   "cell_type": "code",
   "execution_count": 3,
   "metadata": {
    "id": "2B7kHpa3jbBO"
   },
   "outputs": [],
   "source": [
    "def prepare_torch():\n",
    "  global statespace_size\n",
    "  global model, model2\n",
    "  global optimizer\n",
    "  global loss_fn\n",
    "  l1 = statespace_size\n",
    "  l2 = 150\n",
    "  l3 = 100\n",
    "  l4 = 4\n",
    "  model = torch.nn.Sequential(\n",
    "    torch.nn.Linear(l1, l2),\n",
    "    torch.nn.ReLU(),\n",
    "    torch.nn.Linear(l2, l3),\n",
    "    torch.nn.ReLU(),\n",
    "    torch.nn.Linear(l3,l4))\n",
    "  model2 = copy.deepcopy(model)\n",
    "  model2.load_state_dict(model.state_dict())\n",
    "  loss_fn = torch.nn.MSELoss()\n",
    "  learning_rate = 1e-3\n",
    "  optimizer = torch.optim.Adam(model.parameters(), lr=learning_rate)\n",
    "  return model2"
   ]
  },
  {
   "cell_type": "markdown",
   "metadata": {
    "id": "hsAofxHgksLZ"
   },
   "source": [
    "The function \"update_target\" copies the state of the prediction network to the target network. You need to use this in regular intervals."
   ]
  },
  {
   "cell_type": "code",
   "execution_count": 4,
   "metadata": {
    "id": "cxG_sbTfjrJQ"
   },
   "outputs": [],
   "source": [
    "def update_target():\n",
    "  global model, model2\n",
    "  model2.load_state_dict(model.state_dict())"
   ]
  },
  {
   "cell_type": "markdown",
   "metadata": {
    "id": "RRE2-GIJk4E8"
   },
   "source": [
    "The function \"get_qvals\" returns a numpy list of qvals for the state given by the argument _based on the prediction network_."
   ]
  },
  {
   "cell_type": "code",
   "execution_count": 6,
   "metadata": {
    "id": "Fk2OYh9xj9Ch"
   },
   "outputs": [],
   "source": [
    "def get_qvals(state):\n",
    "  state1 = torch.from_numpy(state).float()\n",
    "  qvals_torch = model(state1)\n",
    "  qvals = qvals_torch.data.numpy()\n",
    "  return qvals"
   ]
  },
  {
   "cell_type": "markdown",
   "metadata": {
    "id": "xf9YFP4As84p"
   },
   "source": [
    "The function \"get_maxQ\" returns the maximum q-value for the state given by the argument _based on the target network_."
   ]
  },
  {
   "cell_type": "code",
   "execution_count": 7,
   "metadata": {
    "id": "JxRxl5O1s7ze"
   },
   "outputs": [],
   "source": [
    "def get_maxQ(s):\n",
    "  return torch.max(model2(torch.from_numpy(s).float())).float()"
   ]
  },
  {
   "cell_type": "markdown",
   "metadata": {
    "id": "ko40Ud68tpPD"
   },
   "source": [
    "The function \"train_one_step_new\" performs a single training step. It returns the current loss (only needed for debugging purposes). Its parameters are three parallel lists: a minibatch of states, a minibatch of actions, a minibatch of the corresponding TD targets and the discount factor."
   ]
  },
  {
   "cell_type": "code",
   "execution_count": 8,
   "metadata": {
    "id": "D7ETR7gptdd5"
   },
   "outputs": [],
   "source": [
    "def train_one_step(states, actions, targets, gamma):\n",
    "  # pass to this function: state1_batch, action_batch, TD_batch\n",
    "  global model, model2\n",
    "  state1_batch = torch.cat([torch.from_numpy(s).float() for s in states])\n",
    "  action_batch = torch.Tensor(actions)\n",
    "  Q1 = model(state1_batch)\n",
    "  X = Q1.gather(dim=1,index=action_batch.long().unsqueeze(dim=1)).squeeze()\n",
    "  Y = torch.tensor(targets)\n",
    "  loss = loss_fn(X, Y)\n",
    "  optimizer.zero_grad()\n",
    "  loss.backward()\n",
    "  optimizer.step()\n",
    "  return loss.item()"
   ]
  }
 ],
 "metadata": {
  "colab": {
   "provenance": []
  },
  "kernelspec": {
   "display_name": "Python 3 (ipykernel)",
   "language": "python",
   "name": "python3"
  },
  "language_info": {
   "codemirror_mode": {
    "name": "ipython",
    "version": 3
   },
   "file_extension": ".py",
   "mimetype": "text/x-python",
   "name": "python",
   "nbconvert_exporter": "python",
   "pygments_lexer": "ipython3",
   "version": "3.9.13"
  }
 },
 "nbformat": 4,
 "nbformat_minor": 1
}
