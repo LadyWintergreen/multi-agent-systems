{
 "cells": [
  {
   "cell_type": "code",
   "execution_count": 1,
   "metadata": {},
   "outputs": [],
   "source": [
    "import numpy as np\n",
    "import random as rd"
   ]
  },
  {
   "cell_type": "code",
   "execution_count": 19,
   "metadata": {},
   "outputs": [],
   "source": [
    "class Environment():\n",
    "    \n",
    "    #fields:\n",
    "    #a grid ofsize\n",
    "    def __init__(self, size:int):\n",
    "        self.size = size\n",
    "        self.grid, self.a = self.setup_grid(size)\n",
    "        self.b = (size-1, size-1)\n",
    "\n",
    "    def setup_grid(self, size):\n",
    "        field = np.zeros((size,size))\n",
    "        x, y = rd.randint(0, size-1), rd.randint(0, size-1)\n",
    "        field[x,y] = 1  #A represented by 1\n",
    "        field[size-1,size-1] = 2  #B represented by 2\n",
    "        return field, (x,y)\n",
    "\n",
    "\n",
    "class Agent():\n",
    "    def __init__():\n",
    "        pass\n",
    "    \n",
    "\n",
    "class Hypers():\n",
    "    def __init__(self, eps):\n",
    "        self.eps = eps\n",
    "\n",
    "    def __call__(self):\n",
    "        return self.eps\n",
    "\n",
    "    "
   ]
  },
  {
   "cell_type": "code",
   "execution_count": 30,
   "metadata": {},
   "outputs": [
    {
     "name": "stdout",
     "output_type": "stream",
     "text": [
      "[[0. 0. 0. 0. 0.]\n",
      " [0. 0. 1. 0. 0.]\n",
      " [0. 0. 0. 0. 0.]\n",
      " [0. 0. 0. 0. 0.]\n",
      " [0. 0. 0. 0. 2.]]\n"
     ]
    }
   ],
   "source": [
    "grid = Environment(5)\n",
    "print(grid.grid)"
   ]
  }
 ],
 "metadata": {
  "kernelspec": {
   "display_name": "deep_learning_tf",
   "language": "python",
   "name": "python3"
  },
  "language_info": {
   "codemirror_mode": {
    "name": "ipython",
    "version": 3
   },
   "file_extension": ".py",
   "mimetype": "text/x-python",
   "name": "python",
   "nbconvert_exporter": "python",
   "pygments_lexer": "ipython3",
   "version": "3.11.4"
  },
  "orig_nbformat": 4
 },
 "nbformat": 4,
 "nbformat_minor": 2
}
