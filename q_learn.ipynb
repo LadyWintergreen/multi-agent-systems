{
 "cells": [
  {
   "cell_type": "code",
   "execution_count": 1,
   "metadata": {},
   "outputs": [],
   "source": [
    "import numpy as np\n",
    "import random as rd\n",
    "import time"
   ]
  },
  {
   "cell_type": "code",
   "execution_count": 6,
   "metadata": {},
   "outputs": [],
   "source": [
    "class Environment():\n",
    "    \n",
    "    #fields:\n",
    "    #a grid of size defined by parameter\n",
    "    #b, a tuple repsenting the delivery location\n",
    "    #a, a tuple representing the package location\n",
    "    #size, an int representing the horizontal and vertical dimensions of the grid\n",
    "    def __init__(self, size:int):\n",
    "        self.size = size\n",
    "        self.b = (size-1, size-1)\n",
    "        self.grid, self.a = self.setup_grid(size)\n",
    "        ## IS THIS WHERE THE AGENT SHOULD BE INITIATED?\n",
    "\n",
    "    #method to set up the original grid including a location\n",
    "    def setup_grid(self, size):\n",
    "        grid = np.zeros((size,size))\n",
    "        x, y = rd.randint(0, size-1), rd.randint(0, size-1)\n",
    "        while (x,y) == self.b:\n",
    "            x, y = rd.randint(0, size-1), rd.randint(0, size-1)\n",
    "        # x, y = (0,0)\n",
    "        grid[x,y] = 1  #A represented by 1\n",
    "        grid[size-1,size-1] = 2  #B represented by 2\n",
    "        return grid, (x,y)\n",
    "    \n",
    "    #method to add start location of agent to grid as well\n",
    " #TODO: consider whether to initialise agent as part of environment initialisation\n",
    " #pass agent coordinates into constructor instead lmao DENSE\n",
    "    def set_agent_start(self, agent):\n",
    "        self.agent_coords = (agent.x, agent.y)\n",
    "    \n",
    "    #Method which updates the location of the agent on the grid. Currently just zeroes whatever it landed on - can include other logic instead\n",
    "    def move_agent(self, agent_move):\n",
    "        x, y = self.agent_coords\n",
    "        self.grid[x,y] = 0\n",
    "        self.agent_coords = agent_move\n",
    "        self.grid[agent_move] = -1   \n",
    "\n",
    "#An agent class. Currently barebones\n",
    "class Agent():\n",
    "    def __init__(self, size, a_coords, b_coords):\n",
    "        self.x, self.y = rd.randint(0, size-1), rd.randint(0, size-1)\n",
    "        while ((self.x, self.y) == (a_coords or b_coords)):\n",
    "            self.x, self.y = rd.randint(0, size-1), rd.randint(0, size-1)\n",
    "        self.opts = [\"up\", \"down\", \"left\", \"right\"]\n",
    "\n",
    "    def choose_best_option():\n",
    "        #some sort of policy calculation\n",
    "        #return: best option\n",
    "        pass\n",
    "\n",
    "    def move(self, direction):\n",
    "        if direction==\"left\":\n",
    "            return(self.x-1, self.y)\n",
    "        if direction==\"right\":\n",
    "            return(self.x+1, self.y)\n",
    "        return (rd.choice([self.x+1, self.x-1]), self.y)\n",
    "    \n",
    "#Class to store hyperparameters\n",
    "class Hypers():\n",
    "    def __init__(self, eps, gamma):\n",
    "        self.eps = eps\n",
    "        self.gamma\n",
    "\n",
    "    def __call__(self):\n",
    "        return (self.eps, self.gamma)\n",
    "\n",
    "##Method to initiate agent coordinates should go in setup method since both the Environment and the Agent need to know\n",
    "#Or we need a hierarchy - consult w/ group"
   ]
  },
  {
   "cell_type": "code",
   "execution_count": 7,
   "metadata": {},
   "outputs": [
    {
     "name": "stdout",
     "output_type": "stream",
     "text": [
      "[[ 0.  0.  0.  0.  0.]\n",
      " [ 0.  0.  0.  0.  0.]\n",
      " [ 0.  0.  0.  0. -1.]\n",
      " [ 0.  0.  0.  0.  0.]\n",
      " [ 0.  1.  0.  0.  2.]]\n",
      "[[ 0.  0.  0.  0.  0.]\n",
      " [ 0.  0.  0.  0.  0.]\n",
      " [ 0.  0.  0.  0.  0.]\n",
      " [ 0.  0.  0.  0. -1.]\n",
      " [ 0.  1.  0.  0.  2.]]\n"
     ]
    }
   ],
   "source": [
    "#demo\n",
    "grid = Environment(5)\n",
    "bond = Agent(5, grid.a, grid.b)\n",
    "grid.set_agent_start(bond)\n",
    "grid.move_agent((bond.x,bond.y))\n",
    "print(grid.grid)\n",
    "time.sleep(3)\n",
    "#may fail since move just randomly moves it up or down by one tile which can cause index OOB errors\n",
    "grid.move_agent(bond.move())\n",
    "print(grid.grid)"
   ]
  }
 ],
 "metadata": {
  "kernelspec": {
   "display_name": "deep_learning_tf",
   "language": "python",
   "name": "python3"
  },
  "language_info": {
   "codemirror_mode": {
    "name": "ipython",
    "version": 3
   },
   "file_extension": ".py",
   "mimetype": "text/x-python",
   "name": "python",
   "nbconvert_exporter": "python",
   "pygments_lexer": "ipython3",
   "version": "3.11.4"
  },
  "orig_nbformat": 4
 },
 "nbformat": 4,
 "nbformat_minor": 2
}
