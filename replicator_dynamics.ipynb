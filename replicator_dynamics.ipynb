{
 "cells": [
  {
   "cell_type": "code",
   "execution_count": 3,
   "metadata": {},
   "outputs": [],
   "source": [
    "import numpy as np\n",
    "import itertools\n",
    "import traceback\n",
    "import random as rd\n",
    "from matplotlib import pyplot as plt\n",
    "#idk if I'll need all of these but they sure do help"
   ]
  },
  {
   "cell_type": "code",
   "execution_count": 4,
   "metadata": {},
   "outputs": [],
   "source": [
    "num_players = 2\n",
    "pop = 10000\n",
    "moves = list(range(7)) #move of 3 represents the decision to select a Type 3 square as a pickup location"
   ]
  },
  {
   "cell_type": "code",
   "execution_count": 7,
   "metadata": {},
   "outputs": [],
   "source": [
    "def payoff(my_move:int, their_move:int, package_collector = False):\n",
    "    if package_collector: #if collector (ie. Player 1), costs are easy\n",
    "        if my_move + their_move == 6:\n",
    "            return (100 - (2.3 + my_move)**2)\n",
    "        return (50 - (2.3 + my_move)**2)\n",
    "    #if not collector, use variable expected cost based on avg. distance\n",
    "    costs = {0:2.3, 1:1.3, 2:0.77, 3:0.6, 4:0.77, 5:1.3, 6:2.3}\n",
    "    if my_move + their_move == 6:\n",
    "        return (100-(costs[my_move] + my_move)**2)\n",
    "    return (costs[my_move] + my_move)**2\n",
    "\n",
    "def game(agent_1, agent_2):\n",
    "    if agent_1.collector != agent_2.collector:\n",
    "        agent_1_payoff = payoff(agent_1.strategy, agent_2.strategy, agent_1.collector)\n",
    "        agent_2_payoff = payoff(agent_2.strategy, agent_1.strategy, agent_2.collector)\n",
    "        agent_1.per_round_payoff = agent_1_payoff\n",
    "        agent_2.per_round_payoff = agent_2_payoff\n",
    "\n",
    "class Agent():\n",
    "    def __init__(self, aid, strategy, collector=True) -> None:\n",
    "        self.aid = aid\n",
    "        self.strategy = strategy\n",
    "        self.collector = collector\n",
    "        self.per_round_payoff = 0\n",
    "\n"
   ]
  },
  {
   "cell_type": "code",
   "execution_count": 8,
   "metadata": {},
   "outputs": [],
   "source": [
    "class Replicator():\n",
    "    def __init__(self, population:int = 1000, epochs:int = 1000) -> None:\n",
    "        self.population = population\n",
    "        self.p1_proportions = [1/7, 1/7, 1/7, 1/7, 1/7, 1/7, 1/7]\n",
    "        self.p2_proportions = [1/7, 1/7, 1/7, 1/7, 1/7, 1/7, 1/7]\n",
    "        self.agents = self.setup_agents()\n",
    "        self.epochs = epochs\n",
    "\n",
    "    def setup_agents(self):\n",
    "        agents = []\n",
    "        for i in range(self.population):\n",
    "            collector = np.random.choice([True, False])\n",
    "            if collector:\n",
    "                s = np.random.choice(moves, p=self.p1_proportions)\n",
    "            else:\n",
    "                s = np.random.choice(moves, p=self.p2_proportions)\n",
    "            agents.append(Agent(i,s,collector))\n",
    "        return agents\n",
    "    \n",
    "    def step(self):\n",
    "        pairs = list(itertools.combinations(self.agents, 2))\n",
    "        for pair in pairs:\n",
    "            game(*pair)\n",
    "\n",
    "    def update_proportions(self):\n",
    "        p1_proportions = np.zeros(7)\n",
    "        p2_proportions = np.zeros(7)\n",
    "        for agent in self.agents:\n",
    "            if agent.collector:\n",
    "                p1_proportions[agent.strategy] += agent.per_round_payoff\n",
    "                agent.per_round_payoff = 0\n",
    "            else:\n",
    "                p2_proportions[agent.strategy] += agent.per_round_payoff\n",
    "                agent.per_round_payoff = 0\n",
    "        self.p1_proportions = p1_proportions\n",
    "        self.p2_proportions = p2_proportions\n",
    "\n",
    "    def run(self):\n",
    "        for epoch in range(self.epochs):\n",
    "            print(f\"Epoch: {epoch}\")\n",
    "            self.step()\n",
    "            self.update_proportions()\n",
    "            self.setup_agents()\n",
    "    \n",
    "    def visualise(self):\n",
    "        pass\n"
   ]
  },
  {
   "cell_type": "code",
   "execution_count": 9,
   "metadata": {},
   "outputs": [
    {
     "name": "stdout",
     "output_type": "stream",
     "text": [
      "Epoch: 0\n"
     ]
    },
    {
     "ename": "ValueError",
     "evalue": "probabilities do not sum to 1",
     "output_type": "error",
     "traceback": [
      "\u001b[1;31m---------------------------------------------------------------------------\u001b[0m",
      "\u001b[1;31mValueError\u001b[0m                                Traceback (most recent call last)",
      "\u001b[1;32mc:\\Users\\marks\\Documents\\Uni\\multi-agent-systems\\replicator_dynamics.ipynb Cell 5\u001b[0m line \u001b[0;36m2\n\u001b[0;32m      <a href='vscode-notebook-cell:/c%3A/Users/marks/Documents/Uni/multi-agent-systems/replicator_dynamics.ipynb#W4sZmlsZQ%3D%3D?line=0'>1</a>\u001b[0m kate \u001b[39m=\u001b[39m Replicator()\n\u001b[1;32m----> <a href='vscode-notebook-cell:/c%3A/Users/marks/Documents/Uni/multi-agent-systems/replicator_dynamics.ipynb#W4sZmlsZQ%3D%3D?line=1'>2</a>\u001b[0m kate\u001b[39m.\u001b[39;49mrun()\n",
      "\u001b[1;32mc:\\Users\\marks\\Documents\\Uni\\multi-agent-systems\\replicator_dynamics.ipynb Cell 5\u001b[0m line \u001b[0;36m4\n\u001b[0;32m     <a href='vscode-notebook-cell:/c%3A/Users/marks/Documents/Uni/multi-agent-systems/replicator_dynamics.ipynb#W4sZmlsZQ%3D%3D?line=40'>41</a>\u001b[0m \u001b[39mself\u001b[39m\u001b[39m.\u001b[39mstep()\n\u001b[0;32m     <a href='vscode-notebook-cell:/c%3A/Users/marks/Documents/Uni/multi-agent-systems/replicator_dynamics.ipynb#W4sZmlsZQ%3D%3D?line=41'>42</a>\u001b[0m \u001b[39mself\u001b[39m\u001b[39m.\u001b[39mupdate_proportions()\n\u001b[1;32m---> <a href='vscode-notebook-cell:/c%3A/Users/marks/Documents/Uni/multi-agent-systems/replicator_dynamics.ipynb#W4sZmlsZQ%3D%3D?line=42'>43</a>\u001b[0m \u001b[39mself\u001b[39;49m\u001b[39m.\u001b[39;49msetup_agents()\n",
      "\u001b[1;32mc:\\Users\\marks\\Documents\\Uni\\multi-agent-systems\\replicator_dynamics.ipynb Cell 5\u001b[0m line \u001b[0;36m1\n\u001b[0;32m     <a href='vscode-notebook-cell:/c%3A/Users/marks/Documents/Uni/multi-agent-systems/replicator_dynamics.ipynb#W4sZmlsZQ%3D%3D?line=13'>14</a>\u001b[0m         s \u001b[39m=\u001b[39m np\u001b[39m.\u001b[39mrandom\u001b[39m.\u001b[39mchoice(moves, p\u001b[39m=\u001b[39m\u001b[39mself\u001b[39m\u001b[39m.\u001b[39mp1_proportions)\n\u001b[0;32m     <a href='vscode-notebook-cell:/c%3A/Users/marks/Documents/Uni/multi-agent-systems/replicator_dynamics.ipynb#W4sZmlsZQ%3D%3D?line=14'>15</a>\u001b[0m     \u001b[39melse\u001b[39;00m:\n\u001b[1;32m---> <a href='vscode-notebook-cell:/c%3A/Users/marks/Documents/Uni/multi-agent-systems/replicator_dynamics.ipynb#W4sZmlsZQ%3D%3D?line=15'>16</a>\u001b[0m         s \u001b[39m=\u001b[39m np\u001b[39m.\u001b[39;49mrandom\u001b[39m.\u001b[39;49mchoice(moves, p\u001b[39m=\u001b[39;49m\u001b[39mself\u001b[39;49m\u001b[39m.\u001b[39;49mp2_proportions)\n\u001b[0;32m     <a href='vscode-notebook-cell:/c%3A/Users/marks/Documents/Uni/multi-agent-systems/replicator_dynamics.ipynb#W4sZmlsZQ%3D%3D?line=16'>17</a>\u001b[0m     agents\u001b[39m.\u001b[39mappend(Agent(i,s,collector))\n\u001b[0;32m     <a href='vscode-notebook-cell:/c%3A/Users/marks/Documents/Uni/multi-agent-systems/replicator_dynamics.ipynb#W4sZmlsZQ%3D%3D?line=17'>18</a>\u001b[0m \u001b[39mreturn\u001b[39;00m agents\n",
      "File \u001b[1;32mmtrand.pyx:958\u001b[0m, in \u001b[0;36mnumpy.random.mtrand.RandomState.choice\u001b[1;34m()\u001b[0m\n",
      "\u001b[1;31mValueError\u001b[0m: probabilities do not sum to 1"
     ]
    }
   ],
   "source": [
    "kate = Replicator()\n",
    "kate.run()"
   ]
  }
 ],
 "metadata": {
  "kernelspec": {
   "display_name": "ultrasound",
   "language": "python",
   "name": "python3"
  },
  "language_info": {
   "codemirror_mode": {
    "name": "ipython",
    "version": 3
   },
   "file_extension": ".py",
   "mimetype": "text/x-python",
   "name": "python",
   "nbconvert_exporter": "python",
   "pygments_lexer": "ipython3",
   "version": "3.8.16"
  }
 },
 "nbformat": 4,
 "nbformat_minor": 2
}
